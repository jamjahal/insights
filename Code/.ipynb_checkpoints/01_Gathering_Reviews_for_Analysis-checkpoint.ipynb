{
 "cells": [
  {
   "cell_type": "markdown",
   "metadata": {},
   "source": [
    "# Actionable Insights\n",
    "## Extracting Constructive Material from Customer Reviews"
   ]
  },
  {
   "cell_type": "markdown",
   "metadata": {},
   "source": [
    "---\n",
    "## PART 1: Gathering Reviews for Analysis\n",
    "To run a model that would effectively detect actionable insights from a review, I needed to collect a large enough dataset of reviews.  G2 offered the riches reviews, in part due to the specific questions that each review answered.\n",
    "    \n",
    "- What do you like best?\n",
    "- What do you dislike?\n",
    "- What would you recommend o others considering the product?\n",
    "- What problems are you solvin with the product? What benefits have you realized?\n",
    "\n",
    "I chose hubspot as a test case because it has over 5,500 reviews at the time of this project, each several paragraphs long.  Hubspot is an diverse SaaS platform that spans small to enterprise customers.  Within an organization it is used by cross-functional departments, management and individual contributors.  This diversity in customers and users should provide more perspectives that a product manager could find useful and give context to the insights.   From this data we strive to extract just the actionable insights from individual sentences.  \n",
    "\n",
    "To gather the reviews, I used a spider to crawl the pages of reviews and gather the scrape following datapoints from each review:\n",
    "\n",
    "- Author\n",
    "- Company Size\n",
    "- Role\n",
    "- Date\n",
    "- Review\n",
    "    \n",
    "The [Review Spider](reviews_spider.py) for this scrape can be found in the Code Folder.\n",
    "\n",
    "The G2 site has some roadblocks that prevent scraping over multiple pages in a sitting, so the pages were downloaded to the html folder and then scraped."
   ]
  },
  {
   "cell_type": "markdown",
   "metadata": {},
   "source": [
    "## Scraping reviews of Hubspot from G2"
   ]
  },
  {
   "cell_type": "code",
   "execution_count": null,
   "metadata": {},
   "outputs": [],
   "source": [
    "!scrapy crawl reviews -o G2_hubspot_data.jl"
   ]
  }
 ],
 "metadata": {
  "kernelspec": {
   "display_name": "Python 3",
   "language": "python",
   "name": "python3"
  },
  "language_info": {
   "codemirror_mode": {
    "name": "ipython",
    "version": 3
   },
   "file_extension": ".py",
   "mimetype": "text/x-python",
   "name": "python",
   "nbconvert_exporter": "python",
   "pygments_lexer": "ipython3",
   "version": "3.7.3"
  }
 },
 "nbformat": 4,
 "nbformat_minor": 2
}
